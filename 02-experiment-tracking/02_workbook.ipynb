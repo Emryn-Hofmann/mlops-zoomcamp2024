{
 "cells": [
  {
   "cell_type": "markdown",
   "metadata": {},
   "source": [
    "Using files from [cohorts/2024/02-experiment-tracking/homework](https://github.com/DataTalksClub/mlops-zoomcamp/tree/main/cohorts/2024/02-experiment-tracking/homework)"
   ]
  },
  {
   "cell_type": "code",
   "execution_count": null,
   "metadata": {},
   "outputs": [],
   "source": []
  }
 ],
 "metadata": {
  "kernelspec": {
   "display_name": "Python 3",
   "language": "python",
   "name": "python3"
  },
  "language_info": {
   "name": "python",
   "version": "3.9.12"
  }
 },
 "nbformat": 4,
 "nbformat_minor": 2
}
