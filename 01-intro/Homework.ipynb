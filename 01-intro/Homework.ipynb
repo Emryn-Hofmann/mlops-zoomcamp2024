{
 "cells": [
  {
   "cell_type": "code",
   "execution_count": 1,
   "id": "332492ed",
   "metadata": {},
   "outputs": [],
   "source": [
    "import pandas as pd\n",
    "from sklearn.feature_extraction import DictVectorizer\n",
    "from sklearn.linear_model import LinearRegression\n",
    "from sklearn.metrics import mean_squared_error"
   ]
  },
  {
   "cell_type": "code",
   "execution_count": 2,
   "id": "ed455464",
   "metadata": {},
   "outputs": [],
   "source": [
    "df1 = pd.read_parquet('https://d37ci6vzurychx.cloudfront.net/trip-data/yellow_tripdata_2023-01.parquet')\n",
    "df2 = pd.read_parquet('https://d37ci6vzurychx.cloudfront.net/trip-data/yellow_tripdata_2023-02.parquet')"
   ]
  },
  {
   "cell_type": "code",
   "execution_count": 3,
   "id": "90a1bef7",
   "metadata": {},
   "outputs": [
    {
     "data": {
      "text/plain": [
       "19"
      ]
     },
     "execution_count": 3,
     "metadata": {},
     "output_type": "execute_result"
    }
   ],
   "source": [
    "# Q1\n",
    "df1.shape[1]"
   ]
  },
  {
   "cell_type": "code",
   "execution_count": 4,
   "id": "4d6e74b7",
   "metadata": {},
   "outputs": [
    {
     "data": {
      "text/plain": [
       "42.59"
      ]
     },
     "execution_count": 4,
     "metadata": {},
     "output_type": "execute_result"
    }
   ],
   "source": [
    "#Q2\n",
    "df1['duration'] = (df1['tpep_dropoff_datetime'] - df1['tpep_pickup_datetime']).dt.total_seconds()/60\n",
    "round(df1['duration'].std(),2)"
   ]
  },
  {
   "cell_type": "code",
   "execution_count": 5,
   "id": "a57323aa",
   "metadata": {},
   "outputs": [
    {
     "data": {
      "text/plain": [
       "count    3066766.00\n",
       "mean          15.67\n",
       "std           42.59\n",
       "min          -29.20\n",
       "25%            7.12\n",
       "50%           11.52\n",
       "75%           18.30\n",
       "max        10029.18\n",
       "Name: duration, dtype: float64"
      ]
     },
     "execution_count": 5,
     "metadata": {},
     "output_type": "execute_result"
    }
   ],
   "source": [
    "df1['duration'].describe().round(2)"
   ]
  },
  {
   "cell_type": "code",
   "execution_count": 6,
   "id": "c577af8a",
   "metadata": {},
   "outputs": [
    {
     "name": "stdout",
     "output_type": "stream",
     "text": [
      "Rows before: 3066766\n",
      "Rows After: 3009173\n",
      "Fraction Remaining: 98%\n"
     ]
    }
   ],
   "source": [
    "#Q3\n",
    "print(f\"Rows before: {df1.shape[0]}\")\n",
    "total_rows = df1.shape[0]\n",
    "df1 = df1[((df1['duration']>=1) & (df1['duration']<=60))]\n",
    "print(f\"Rows After: {df1.shape[0]}\")\n",
    "print(f\"Fraction Remaining: {round(100*df1.shape[0]/total_rows)}%\")"
   ]
  },
  {
   "cell_type": "code",
   "execution_count": 7,
   "id": "9ad361d4",
   "metadata": {},
   "outputs": [
    {
     "data": {
      "text/plain": [
       "515"
      ]
     },
     "execution_count": 7,
     "metadata": {},
     "output_type": "execute_result"
    }
   ],
   "source": [
    "#Q4\n",
    "categorical = ['PULocationID', 'DOLocationID']\n",
    "\n",
    "df1[categorical] = df1[categorical].astype(str)\n",
    "train_dicts = df1[categorical].to_dict(orient='records')\n",
    "\n",
    "dv = DictVectorizer()\n",
    "X_train = dv.fit_transform(train_dicts)\n",
    "X_train.shape[1]"
   ]
  },
  {
   "cell_type": "code",
   "execution_count": 8,
   "id": "30ef6a8a",
   "metadata": {},
   "outputs": [
    {
     "data": {
      "text/plain": [
       "7.65"
      ]
     },
     "execution_count": 8,
     "metadata": {},
     "output_type": "execute_result"
    }
   ],
   "source": [
    "#Q5\n",
    "# Create target\n",
    "y_train = df1['duration'].values\n",
    "\n",
    "# Create linear regression object\n",
    "regr = LinearRegression()\n",
    "\n",
    "# Train the model using the training sets\n",
    "regr.fit(X_train, y_train)\n",
    "\n",
    "# Score it on RMSE:\n",
    "round(mean_squared_error(y_train, regr.predict(X_train), squared=False),2)"
   ]
  },
  {
   "cell_type": "code",
   "execution_count": 9,
   "id": "f0a8e27d",
   "metadata": {},
   "outputs": [
    {
     "data": {
      "text/plain": [
       "7.81"
      ]
     },
     "execution_count": 9,
     "metadata": {},
     "output_type": "execute_result"
    }
   ],
   "source": [
    "#Q6\n",
    "# Preprocess df2 & make duration\n",
    "df2['duration'] = (df2['tpep_dropoff_datetime'] - df2['tpep_pickup_datetime']).dt.total_seconds()/60\n",
    "df2 = df2[((df2['duration']>=1) & (df2['duration']<=60))]\n",
    "\n",
    "# Apply dictvectorizer to df2\n",
    "df2[categorical] = df2[categorical].astype(str)\n",
    "val_dicts = df2[categorical].to_dict(orient='records')\n",
    "\n",
    "X_val = dv.transform(val_dicts)\n",
    "y_val = df2['duration'].values\n",
    "\n",
    "# Score it on RMSE:\n",
    "round(mean_squared_error(y_val, regr.predict(X_val), squared=False),2)"
   ]
  }
 ],
 "metadata": {
  "kernelspec": {
   "display_name": "Python 3 (ipykernel)",
   "language": "python",
   "name": "python3"
  },
  "language_info": {
   "codemirror_mode": {
    "name": "ipython",
    "version": 3
   },
   "file_extension": ".py",
   "mimetype": "text/x-python",
   "name": "python",
   "nbconvert_exporter": "python",
   "pygments_lexer": "ipython3",
   "version": "3.9.12"
  }
 },
 "nbformat": 4,
 "nbformat_minor": 5
}
